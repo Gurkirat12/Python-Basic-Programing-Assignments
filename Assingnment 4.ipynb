{
 "cells": [
  {
   "cell_type": "markdown",
   "metadata": {},
   "source": [
    "1. Write a Python Program to Find the Factorial of a Number?"
   ]
  },
  {
   "cell_type": "code",
   "execution_count": 7,
   "metadata": {},
   "outputs": [
    {
     "name": "stdout",
     "output_type": "stream",
     "text": [
      "Enter the number to find factorial 5\n",
      "120\n"
     ]
    }
   ],
   "source": [
    "a = int(input(\"Enter the number to find factorial \"))\n",
    "fact = 1\n",
    "while a != 0 :\n",
    "    fact *= a\n",
    "    a -= 1\n",
    "print(fact)"
   ]
  },
  {
   "cell_type": "markdown",
   "metadata": {},
   "source": [
    "2. Write a Python Program to Display the multiplication Table?"
   ]
  },
  {
   "cell_type": "code",
   "execution_count": 13,
   "metadata": {},
   "outputs": [
    {
     "name": "stdout",
     "output_type": "stream",
     "text": [
      "Enter the number 10\n",
      "10 x 1 = 10\n",
      "10 x 2 = 20\n",
      "10 x 3 = 30\n",
      "10 x 4 = 40\n",
      "10 x 5 = 50\n",
      "10 x 6 = 60\n",
      "10 x 7 = 70\n",
      "10 x 8 = 80\n",
      "10 x 9 = 90\n",
      "10 x 10 = 100\n"
     ]
    }
   ],
   "source": [
    "b = int(input(\"Enter the number \"))\n",
    "for i in range(1,11):\n",
    "    print(b , \"x\" , i ,\"=\" , b*i )"
   ]
  },
  {
   "cell_type": "markdown",
   "metadata": {},
   "source": [
    "3. Write a Python Program to Print the Fibonacci sequence?"
   ]
  },
  {
   "cell_type": "code",
   "execution_count": 17,
   "metadata": {},
   "outputs": [
    {
     "name": "stdout",
     "output_type": "stream",
     "text": [
      "Enter the term 7\n",
      "fibonacci sequence \n",
      "0\n",
      "1\n",
      "1\n",
      "2\n",
      "3\n",
      "5\n",
      "8\n"
     ]
    }
   ],
   "source": [
    "n = int(input(\"Enter the term \"))\n",
    "n1 , n2 = 0 , 1\n",
    "count = 0\n",
    "\n",
    "if n <= 0 :\n",
    "    print(\"Enter the positive number\")\n",
    "else :\n",
    "    print(\"fibonacci sequence \")\n",
    "    while count < n :\n",
    "        print(n1)\n",
    "        nth = n1 + n2\n",
    "        n1 , n2 = n2 , nth\n",
    "        count += 1"
   ]
  },
  {
   "cell_type": "markdown",
   "metadata": {},
   "source": [
    "4. Write a Python Program to Check Armstrong Number?"
   ]
  },
  {
   "cell_type": "code",
   "execution_count": 40,
   "metadata": {},
   "outputs": [
    {
     "name": "stdout",
     "output_type": "stream",
     "text": [
      "Enter the number 470\n",
      "It is not an armstrong number\n"
     ]
    }
   ],
   "source": [
    "num = int(input(\"Enter the number \"))\n",
    "sum = 0\n",
    "temp = num\n",
    "a = len(str(num))\n",
    "\n",
    "while temp > 0 :\n",
    "    digit = temp % 10\n",
    "    sum += (digit ** a)\n",
    "    temp = temp // 10\n",
    "\n",
    "if sum == num :\n",
    "    print(\"It is an armstrong number\")\n",
    "else :\n",
    "    print(\"It is not an armstrong number\")"
   ]
  },
  {
   "cell_type": "markdown",
   "metadata": {},
   "source": [
    "5.Write a Python Program to Find Armstrong Number in an Interval?"
   ]
  },
  {
   "cell_type": "code",
   "execution_count": 36,
   "metadata": {},
   "outputs": [
    {
     "name": "stdout",
     "output_type": "stream",
     "text": [
      "Enter the starting range 11\n",
      "Enter the ending range 407\n",
      "It is an armstrong number  153\n",
      "It is an armstrong number  370\n",
      "It is an armstrong number  371\n",
      "It is an armstrong number  407\n"
     ]
    }
   ],
   "source": [
    "a = int(input(\"Enter the starting range \"))\n",
    "\n",
    "b = int(input(\"Enter the ending range \"))\n",
    "\n",
    "for i in range(a,b+1):\n",
    "    c = len(str(i))\n",
    "    sum = 0\n",
    "    temp = i\n",
    "    while temp > 0 :\n",
    "        digit = temp % 10\n",
    "        sum += (digit ** c)\n",
    "        temp = temp // 10\n",
    "    if sum == i:\n",
    "         print(\"It is an armstrong number \" , sum)\n",
    "    \n"
   ]
  },
  {
   "cell_type": "markdown",
   "metadata": {},
   "source": [
    "6. Write a Python Program to Find the Sum of Natural Numbers?"
   ]
  },
  {
   "cell_type": "code",
   "execution_count": 50,
   "metadata": {},
   "outputs": [
    {
     "name": "stdout",
     "output_type": "stream",
     "text": [
      "Enter the positive upto which you want to find sum 20\n",
      "210\n"
     ]
    }
   ],
   "source": [
    "a = int(input(\"Enter the positive upto which you want to find sum \"))\n",
    "\n",
    "if a < 0:\n",
    "    print(\"Enter the positive number\")\n",
    "else:\n",
    "    sum = 0\n",
    "    for i in range(1,a+1):\n",
    "        sum += i\n",
    "    print(sum)"
   ]
  },
  {
   "cell_type": "code",
   "execution_count": null,
   "metadata": {},
   "outputs": [],
   "source": []
  },
  {
   "cell_type": "code",
   "execution_count": null,
   "metadata": {},
   "outputs": [],
   "source": []
  }
 ],
 "metadata": {
  "kernelspec": {
   "display_name": "Python 3",
   "language": "python",
   "name": "python3"
  },
  "language_info": {
   "codemirror_mode": {
    "name": "ipython",
    "version": 3
   },
   "file_extension": ".py",
   "mimetype": "text/x-python",
   "name": "python",
   "nbconvert_exporter": "python",
   "pygments_lexer": "ipython3",
   "version": "3.8.5"
  }
 },
 "nbformat": 4,
 "nbformat_minor": 4
}
