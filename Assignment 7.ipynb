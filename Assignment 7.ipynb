{
 "cells": [
  {
   "cell_type": "markdown",
   "metadata": {},
   "source": [
    "Write a Python Program to find sum of array?"
   ]
  },
  {
   "cell_type": "code",
   "execution_count": 1,
   "metadata": {},
   "outputs": [
    {
     "name": "stdout",
     "output_type": "stream",
     "text": [
      "sum of array 21\n"
     ]
    }
   ],
   "source": [
    "arr = [1,2,3,4,5,6]\n",
    "\n",
    "a = sum(arr)\n",
    "\n",
    "print(\"sum of array\",a)"
   ]
  },
  {
   "cell_type": "markdown",
   "metadata": {},
   "source": [
    "Write a Python Program to find largest element in an array?"
   ]
  },
  {
   "cell_type": "code",
   "execution_count": 4,
   "metadata": {},
   "outputs": [
    {
     "name": "stdout",
     "output_type": "stream",
     "text": [
      "Largest of array 99\n"
     ]
    }
   ],
   "source": [
    "arr = [1,2,3,4,5,6,99,7,8]\n",
    "\n",
    "a = max(arr)\n",
    "\n",
    "print(\"Largest of array\",a)"
   ]
  },
  {
   "cell_type": "markdown",
   "metadata": {},
   "source": [
    "Write a Python Program for array rotation?"
   ]
  },
  {
   "cell_type": "code",
   "execution_count": 14,
   "metadata": {},
   "outputs": [
    {
     "name": "stdout",
     "output_type": "stream",
     "text": [
      "enter the number of rotation 5\n",
      "[5, 6, 99, 7, 8, 1, 2, 3, 4]\n"
     ]
    }
   ],
   "source": [
    "arr = [1,2,3,4,5,6,99,7,8]\n",
    "n = int(input(\"enter the number of rotation \"  ))\n",
    "\n",
    "for i in range(0,len(arr)-n):\n",
    "    arr = arr[1:] + arr[0:1]\n",
    "    \n",
    "print(arr)"
   ]
  },
  {
   "cell_type": "markdown",
   "metadata": {},
   "source": [
    "Write a Python Program to Split the array and add the first part to the end?"
   ]
  },
  {
   "cell_type": "code",
   "execution_count": 7,
   "metadata": {},
   "outputs": [
    {
     "name": "stdout",
     "output_type": "stream",
     "text": [
      "[4, 5, 6, 1, 2, 3]\n"
     ]
    }
   ],
   "source": [
    "arr = [1,2,3,4,5,6]\n",
    "\n",
    "    \n",
    "print(arr[(len(arr)//2) : ] + arr[ : (len(arr)//2)])"
   ]
  },
  {
   "cell_type": "markdown",
   "metadata": {},
   "source": [
    "    "
   ]
  },
  {
   "cell_type": "markdown",
   "metadata": {},
   "source": [
    "Write a Python Program to check if given array is Monotonic?\n"
   ]
  },
  {
   "cell_type": "code",
   "execution_count": 7,
   "metadata": {},
   "outputs": [
    {
     "name": "stdout",
     "output_type": "stream",
     "text": [
      "Enter the total number of elements5\n",
      "5\n",
      "5\n",
      "4\n",
      "4\n",
      "1\n",
      "3\n",
      "5\n",
      "This is monotonic\n"
     ]
    }
   ],
   "source": [
    "n = int(input(\"Enter the total number of elements\"))\n",
    "\n",
    "lst =[]\n",
    "\n",
    "for i in range(0,n):\n",
    "    a = int(input())\n",
    "    \n",
    "    lst.append(a)\n",
    "    \n",
    "count = 1\n",
    "count2 = 1\n",
    "for i in range(0,n-1):\n",
    "    if lst[i+1] > lst[i]:\n",
    "        count += 1\n",
    "        \n",
    "    elif lst[i+1] < lst[i]:\n",
    "        count2 += 1\n",
    "        \n",
    "    elif lst[i+1] == lst[i]:\n",
    "        count += 1\n",
    "        count2 += 1\n",
    "        \n",
    "print(count)\n",
    "print(count2)\n",
    "if count == n or count2 == n:\n",
    "    print(\"This is monotonic\")\n",
    "else :\n",
    "    print(\"This is not monotonic\")"
   ]
  },
  {
   "cell_type": "code",
   "execution_count": null,
   "metadata": {},
   "outputs": [],
   "source": []
  },
  {
   "cell_type": "code",
   "execution_count": null,
   "metadata": {},
   "outputs": [],
   "source": []
  }
 ],
 "metadata": {
  "kernelspec": {
   "display_name": "Python 3",
   "language": "python",
   "name": "python3"
  },
  "language_info": {
   "codemirror_mode": {
    "name": "ipython",
    "version": 3
   },
   "file_extension": ".py",
   "mimetype": "text/x-python",
   "name": "python",
   "nbconvert_exporter": "python",
   "pygments_lexer": "ipython3",
   "version": "3.8.5"
  }
 },
 "nbformat": 4,
 "nbformat_minor": 4
}
